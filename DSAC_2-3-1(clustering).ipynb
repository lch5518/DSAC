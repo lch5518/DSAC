{
 "cells": [
  {
   "cell_type": "markdown",
   "metadata": {},
   "source": [
    "# DSAC_3day"
   ]
  },
  {
   "cell_type": "code",
   "execution_count": 141,
   "metadata": {},
   "outputs": [],
   "source": [
    "import pandas as pd\n",
    "import numpy as np\n",
    "import matplotlib.pyplot as plt\n",
    "%matplotlib inline\n",
    "\n",
    "\n",
    "#한글패치\n",
    "from matplotlib import font_manager, rc\n",
    "path = \"c:\\Windows\\Fonts\\malgun.ttf\"\n",
    "font_name = font_manager.FontProperties(fname=path).get_name()\n",
    "rc('font', family=font_name)\n",
    "plt.rcParams['axes.unicode_minus'] = False"
   ]
  },
  {
   "cell_type": "code",
   "execution_count": 142,
   "metadata": {
    "collapsed": true
   },
   "outputs": [
    {
     "data": {
      "text/html": [
       "<div>\n",
       "<style scoped>\n",
       "    .dataframe tbody tr th:only-of-type {\n",
       "        vertical-align: middle;\n",
       "    }\n",
       "\n",
       "    .dataframe tbody tr th {\n",
       "        vertical-align: top;\n",
       "    }\n",
       "\n",
       "    .dataframe thead th {\n",
       "        text-align: right;\n",
       "    }\n",
       "</style>\n",
       "<table border=\"1\" class=\"dataframe\">\n",
       "  <thead>\n",
       "    <tr style=\"text-align: right;\">\n",
       "      <th></th>\n",
       "      <th>구분</th>\n",
       "      <th>주거용</th>\n",
       "      <th>공공용</th>\n",
       "      <th>서비스업</th>\n",
       "      <th>업무용합계</th>\n",
       "      <th>농림어업</th>\n",
       "      <th>광업</th>\n",
       "      <th>제조업</th>\n",
       "      <th>식료품제조</th>\n",
       "      <th>섬유,의류</th>\n",
       "      <th>...</th>\n",
       "      <th>기타기계</th>\n",
       "      <th>사무기기</th>\n",
       "      <th>전기기기</th>\n",
       "      <th>영상,음향</th>\n",
       "      <th>자동차</th>\n",
       "      <th>기타운송</th>\n",
       "      <th>가구및기타</th>\n",
       "      <th>재생재료</th>\n",
       "      <th>산업용합계</th>\n",
       "      <th>합계</th>\n",
       "    </tr>\n",
       "  </thead>\n",
       "  <tbody>\n",
       "    <tr>\n",
       "      <th>0</th>\n",
       "      <td>강원</td>\n",
       "      <td>1940933</td>\n",
       "      <td>1400421</td>\n",
       "      <td>6203749</td>\n",
       "      <td>7604170</td>\n",
       "      <td>607139</td>\n",
       "      <td>398287</td>\n",
       "      <td>6002286</td>\n",
       "      <td>546621</td>\n",
       "      <td>13027</td>\n",
       "      <td>...</td>\n",
       "      <td>35063</td>\n",
       "      <td>2019</td>\n",
       "      <td>38062</td>\n",
       "      <td>43986</td>\n",
       "      <td>113448</td>\n",
       "      <td>108629</td>\n",
       "      <td>12872</td>\n",
       "      <td>3418</td>\n",
       "      <td>7007712</td>\n",
       "      <td>16552816</td>\n",
       "    </tr>\n",
       "    <tr>\n",
       "      <th>1</th>\n",
       "      <td>개성</td>\n",
       "      <td>0</td>\n",
       "      <td>0</td>\n",
       "      <td>0</td>\n",
       "      <td>0</td>\n",
       "      <td>0</td>\n",
       "      <td>0</td>\n",
       "      <td>0</td>\n",
       "      <td>0</td>\n",
       "      <td>0</td>\n",
       "      <td>...</td>\n",
       "      <td>0</td>\n",
       "      <td>0</td>\n",
       "      <td>0</td>\n",
       "      <td>0</td>\n",
       "      <td>0</td>\n",
       "      <td>0</td>\n",
       "      <td>0</td>\n",
       "      <td>0</td>\n",
       "      <td>0</td>\n",
       "      <td>0</td>\n",
       "    </tr>\n",
       "    <tr>\n",
       "      <th>2</th>\n",
       "      <td>경기</td>\n",
       "      <td>16587710</td>\n",
       "      <td>5533662</td>\n",
       "      <td>33434551</td>\n",
       "      <td>38968213</td>\n",
       "      <td>2371347</td>\n",
       "      <td>317263</td>\n",
       "      <td>56603327</td>\n",
       "      <td>2544420</td>\n",
       "      <td>2109963</td>\n",
       "      <td>...</td>\n",
       "      <td>3613798</td>\n",
       "      <td>317244</td>\n",
       "      <td>1040171</td>\n",
       "      <td>24519644</td>\n",
       "      <td>2977165</td>\n",
       "      <td>67594</td>\n",
       "      <td>1833112</td>\n",
       "      <td>133041</td>\n",
       "      <td>59291937</td>\n",
       "      <td>114847859</td>\n",
       "    </tr>\n",
       "  </tbody>\n",
       "</table>\n",
       "<p>3 rows × 28 columns</p>\n",
       "</div>"
      ],
      "text/plain": [
       "   구분       주거용      공공용      서비스업     업무용합계     농림어업      광업       제조업  \\\n",
       "0  강원   1940933  1400421   6203749   7604170   607139  398287   6002286   \n",
       "1  개성         0        0         0         0        0       0         0   \n",
       "2  경기  16587710  5533662  33434551  38968213  2371347  317263  56603327   \n",
       "\n",
       "     식료품제조    섬유,의류    ...         기타기계    사무기기     전기기기     영상,음향      자동차  \\\n",
       "0   546621    13027    ...        35063    2019    38062     43986   113448   \n",
       "1        0        0    ...            0       0        0         0        0   \n",
       "2  2544420  2109963    ...      3613798  317244  1040171  24519644  2977165   \n",
       "\n",
       "     기타운송    가구및기타    재생재료     산업용합계         합계  \n",
       "0  108629    12872    3418   7007712   16552816  \n",
       "1       0        0       0         0          0  \n",
       "2   67594  1833112  133041  59291937  114847859  \n",
       "\n",
       "[3 rows x 28 columns]"
      ]
     },
     "execution_count": 142,
     "metadata": {},
     "output_type": "execute_result"
    }
   ],
   "source": [
    "#전력사용량 데이터\n",
    "power = pd.read_excel('data/시도별_용도별.xls')\n",
    "\n",
    "power.head(3)"
   ]
  },
  {
   "cell_type": "code",
   "execution_count": 143,
   "metadata": {},
   "outputs": [],
   "source": [
    "# 데이터 전처리\n",
    "power.set_index('구분',inplace=True)\n",
    "power1 = power.drop(['개성','합계'])\n",
    "power1 = power1.drop('합계',axis = 1)\n",
    "\n",
    "power1.columns"
   ]
  },
  {
   "cell_type": "code",
   "execution_count": 168,
   "metadata": {
    "collapsed": true
   },
   "outputs": [
    {
     "data": {
      "text/plain": [
       "<matplotlib.collections.PathCollection at 0x28f8ca75c88>"
      ]
     },
     "execution_count": 168,
     "metadata": {},
     "output_type": "execute_result"
    },
    {
     "data": {
      "image/png": "[encoded data removed]",
      "text/plain": [
       "<Figure size 576x432 with 1 Axes>"
      ]
     },
     "metadata": {
      "needs_background": "light"
     },
     "output_type": "display_data"
    }
   ],
   "source": [
    "# 산점도 그래프\n",
    "plt.figure(figsize=(8,6))\n",
    "plt.xlabel('제조업')\n",
    "plt.ylabel('서비스업')\n",
    "plt.scatter(power1['제조업'],power1['서비스업'])"
   ]
  },
  {
   "cell_type": "code",
   "execution_count": 171,
   "metadata": {
    "collapsed": true
   },
   "outputs": [
    {
     "data": {
      "text/plain": [
       "(array([1, 2, 3, 4]), <a list of 4 Text xticklabel objects>)"
      ]
     },
     "execution_count": 171,
     "metadata": {},
     "output_type": "execute_result"
    },
    {
     "data": {
      "image/png": "[encoded data removed]",
      "text/plain": [
       "<Figure size 360x360 with 1 Axes>"
      ]
     },
     "metadata": {
      "needs_background": "light"
     },
     "output_type": "display_data"
    }
   ],
   "source": [
    "# 박스플롯\n",
    "plt.figure(figsize=(5,5))\n",
    "#power1.T.boxplot()\n",
    "#power1.boxplot()\n",
    "power1[['주거용','공공용','서비스업','업무용합계']].boxplot()\n",
    "plt.xticks(rotation=45) #글자45도 돌리기"
   ]
  },
  {
   "cell_type": "code",
   "execution_count": 176,
   "metadata": {
    "collapsed": true
   },
   "outputs": [
    {
     "data": {
      "text/plain": [
       "<matplotlib.axes._subplots.AxesSubplot at 0x28f8f543748>"
      ]
     },
     "execution_count": 176,
     "metadata": {},
     "output_type": "execute_result"
    },
    {
     "data": {
      "image/png": "[encoded data removed]",
      "text/plain": [
       "<Figure size 432x288 with 1 Axes>"
      ]
     },
     "metadata": {
      "needs_background": "light"
     },
     "output_type": "display_data"
    }
   ],
   "source": [
    "#바그래프\n",
    "#power1.plot(kind = 'bar',stacked = True)\n",
    "#power1.plot(kind = 'barh',stacked = False)\n",
    "power1.plot(kind = 'barh',stacked = True)"
   ]
  },
  {
   "cell_type": "code",
   "execution_count": 190,
   "metadata": {
    "collapsed": true
   },
   "outputs": [
    {
     "data": {
      "text/plain": [
       "Text(0.5, 1.0, 'power1')"
      ]
     },
     "execution_count": 190,
     "metadata": {},
     "output_type": "execute_result"
    },
    {
     "data": {
      "image/png": "[encoded data removed]",
      "text/plain": [
       "<Figure size 576x432 with 1 Axes>"
      ]
     },
     "metadata": {
      "needs_background": "light"
     },
     "output_type": "display_data"
    }
   ],
   "source": [
    "# 데이터에 라벨붙이기\n",
    "plt.figure(figsize=(8,6))\n",
    "plt.xlabel('제조업')\n",
    "plt.ylabel('서비스업')\n",
    "plt.scatter(power1['제조업'],power1['서비스업'])\n",
    "for n in range(power1.shape[0]):\n",
    "    plt.text(power1['제조업'][n]*1.02,power1['서비스업'][n]*1.02,power1.index[n])\n",
    "plt.title('power1')"
   ]
  },
  {
   "cell_type": "code",
   "execution_count": 192,
   "metadata": {
    "collapsed": true
   },
   "outputs": [
    {
     "data": {
      "text/plain": [
       "Text(0.5, 1.0, 'power2')"
      ]
     },
     "execution_count": 192,
     "metadata": {},
     "output_type": "execute_result"
    },
    {
     "data": {
      "image/png": "[encoded data removed]",
      "text/plain": [
       "<Figure size 432x288 with 1 Axes>"
      ]
     },
     "metadata": {
      "needs_background": "light"
     },
     "output_type": "display_data"
    }
   ],
   "source": [
    "# 이상치 제거\n",
    "power2 = power1.drop(['서울','경기'])\n",
    "plt.xlabel('제조업')\n",
    "plt.ylabel('서비스업')\n",
    "plt.scatter(power2['제조업'],power2['서비스업'])\n",
    "for n in range(power2.shape[0]):\n",
    "    plt.text(power2['제조업'][n],power2['서비스업'][n],power2.index[n])\n",
    "plt.title('power2')"
   ]
  },
  {
   "cell_type": "markdown",
   "metadata": {},
   "source": [
    "## clustering 연습"
   ]
  },
  {
   "cell_type": "code",
   "execution_count": 209,
   "metadata": {
    "collapsed": true
   },
   "outputs": [
    {
     "data": {
      "text/plain": [
       "{'icoord': [[5.0, 5.0, 15.0, 15.0],\n",
       "  [25.0, 25.0, 35.0, 35.0],\n",
       "  [10.0, 10.0, 30.0, 30.0],\n",
       "  [55.0, 55.0, 65.0, 65.0],\n",
       "  [45.0, 45.0, 60.0, 60.0],\n",
       "  [20.0, 20.0, 52.5, 52.5],\n",
       "  [95.0, 95.0, 105.0, 105.0],\n",
       "  [85.0, 85.0, 100.0, 100.0],\n",
       "  [75.0, 75.0, 92.5, 92.5],\n",
       "  [36.25, 36.25, 83.75, 83.75],\n",
       "  [115.0, 115.0, 125.0, 125.0],\n",
       "  [135.0, 135.0, 145.0, 145.0],\n",
       "  [120.0, 120.0, 140.0, 140.0],\n",
       "  [60.0, 60.0, 130.0, 130.0]],\n",
       " 'dcoord': [[0.0, 1710061.974984825, 1710061.974984825, 0.0],\n",
       "  [0.0, 3043246.288119481, 3043246.288119481, 0.0],\n",
       "  [1710061.974984825, 4348307.924220294, 4348307.924220294, 3043246.288119481],\n",
       "  [0.0, 4802848.110011704, 4802848.110011704, 0.0],\n",
       "  [0.0, 4657254.6127551105, 4657254.6127551105, 4802848.110011704],\n",
       "  [4348307.924220294,\n",
       "   9343072.809294693,\n",
       "   9343072.809294693,\n",
       "   4657254.6127551105],\n",
       "  [0.0, 5695128.446028237, 5695128.446028237, 0.0],\n",
       "  [0.0, 6732731.075477173, 6732731.075477173, 5695128.446028237],\n",
       "  [0.0, 9716608.53359852, 9716608.53359852, 6732731.075477173],\n",
       "  [9343072.809294693,\n",
       "   16943377.135845214,\n",
       "   16943377.135845214,\n",
       "   9716608.53359852],\n",
       "  [0.0, 7050712.489433036, 7050712.489433036, 0.0],\n",
       "  [0.0, 13505120.759503819, 13505120.759503819, 0.0],\n",
       "  [7050712.489433036,\n",
       "   20013047.686705425,\n",
       "   20013047.686705425,\n",
       "   13505120.759503819],\n",
       "  [16943377.135845214,\n",
       "   32462121.866106525,\n",
       "   32462121.866106525,\n",
       "   20013047.686705425]],\n",
       " 'ivl': ['광주',\n",
       "  '대전',\n",
       "  '세종',\n",
       "  '제주',\n",
       "  '부산',\n",
       "  '강원',\n",
       "  '대구',\n",
       "  '경남',\n",
       "  '충북',\n",
       "  '인천',\n",
       "  '전북',\n",
       "  '울산',\n",
       "  '전남',\n",
       "  '경북',\n",
       "  '충남'],\n",
       " 'leaves': [3, 5, 7, 12, 6, 0, 4, 1, 14, 9, 11, 8, 10, 2, 13],\n",
       " 'color_list': ['g',\n",
       "  'g',\n",
       "  'g',\n",
       "  'g',\n",
       "  'g',\n",
       "  'g',\n",
       "  'g',\n",
       "  'g',\n",
       "  'g',\n",
       "  'g',\n",
       "  'r',\n",
       "  'r',\n",
       "  'r',\n",
       "  'b']}"
      ]
     },
     "execution_count": 209,
     "metadata": {},
     "output_type": "execute_result"
    },
    {
     "data": {
      "image/png": "[encoded data removed]",
      "text/plain": [
       "<Figure size 432x288 with 1 Axes>"
      ]
     },
     "metadata": {
      "needs_background": "light"
     },
     "output_type": "display_data"
    }
   ],
   "source": [
    "from scipy.cluster.hierarchy import dendrogram, linkage\n",
    "\n",
    "#link_dist = linkage(power1, metric = 'euclidean', method='centroid',)\n",
    "#link_dist = linkage(power1, metric = 'euclidean', method='ward',)\n",
    "link_dist = linkage(power2, metric = 'euclidean', method='centroid',)\n",
    "\n",
    "#link_dist\n",
    "\n",
    "#dendrogram(link_dist, labels = power1.index)\n",
    "dendrogram(link_dist, labels = power2.index)"
   ]
  },
  {
   "cell_type": "markdown",
   "metadata": {},
   "source": [
    "## clustering by KMeans()"
   ]
  },
  {
   "cell_type": "code",
   "execution_count": 210,
   "metadata": {},
   "outputs": [
    {
     "data": {
      "text/plain": [
       "KMeans(algorithm='auto', copy_x=True, init='k-means++', max_iter=300,\n",
       "    n_clusters=4, n_init=10, n_jobs=None, precompute_distances='auto',\n",
       "    random_state=None, tol=0.0001, verbose=0)"
      ]
     },
     "execution_count": 210,
     "metadata": {},
     "output_type": "execute_result"
    }
   ],
   "source": [
    "from sklearn.cluster import KMeans\n",
    "k = KMeans(n_clusters=4)\n",
    "#k.fit(power1)\n",
    "k.fit(power2)"
   ]
  },
  {
   "cell_type": "code",
   "execution_count": 212,
   "metadata": {},
   "outputs": [
    {
     "name": "stdout",
     "output_type": "stream",
     "text": [
      "[2 0 1 2 2 2 2 2 3 0 3 0 2 1 0]\n"
     ]
    }
   ],
   "source": [
    "print(k.labels_)\n",
    "#print(k.cluster_centers_)"
   ]
  },
  {
   "cell_type": "code",
   "execution_count": 213,
   "metadata": {
    "collapsed": true
   },
   "outputs": [
    {
     "data": {
      "text/plain": [
       "구분\n",
       "강원    2\n",
       "경남    0\n",
       "경북    1\n",
       "광주    2\n",
       "대구    2\n",
       "대전    2\n",
       "부산    2\n",
       "세종    2\n",
       "울산    3\n",
       "인천    0\n",
       "전남    3\n",
       "전북    0\n",
       "제주    2\n",
       "충남    1\n",
       "충북    0\n",
       "Name: 클러스터종류, dtype: int32"
      ]
     },
     "execution_count": 213,
     "metadata": {},
     "output_type": "execute_result"
    }
   ],
   "source": [
    "#power1['클러스터종류'] = k.labels_\n",
    "#power1['클러스터종류']\n",
    "power2['클러스터종류'] = k.labels_\n",
    "power2['클러스터종류']"
   ]
  },
  {
   "cell_type": "code",
   "execution_count": 217,
   "metadata": {
    "collapsed": true
   },
   "outputs": [
    {
     "data": {
      "text/plain": [
       "Index(['주거용', '공공용', '서비스업', '업무용합계', '농림어업', '광업', '제조업', '식료품제조', '섬유,의류',\n",
       "       '목재,나무', '펄프,종이', '출판,인쇄', '석유,화확', '의료,광학', '요업', '1차금속', '조립금속',\n",
       "       '기타기계', '사무기기', '전기기기', '영상,음향', '자동차', '기타운송', '가구및기타', '재생재료',\n",
       "       '산업용합계'],\n",
       "      dtype='object')"
      ]
     },
     "execution_count": 217,
     "metadata": {},
     "output_type": "execute_result"
    }
   ],
   "source": [
    "# 저장된 클러스터 컬럼(axis=1) 제거\n",
    "power3 = power1.drop(['클러스터종류'], axis = 1)\n",
    "power3.columns"
   ]
  },
  {
   "cell_type": "code",
   "execution_count": 224,
   "metadata": {},
   "outputs": [
    {
     "data": {
      "text/plain": [
       "Text(0.5, 1.0, 'power2(전력사용량)')"
      ]
     },
     "execution_count": 224,
     "metadata": {},
     "output_type": "execute_result"
    },
    {
     "data": {
      "image/png": "[encoded data removed]",
      "text/plain": [
       "<Figure size 720x432 with 1 Axes>"
      ]
     },
     "metadata": {
      "needs_background": "light"
     },
     "output_type": "display_data"
    }
   ],
   "source": [
    "# 산점도 그래프에 군집화를 해보자\n",
    "plt.figure(figsize=(10,6))\n",
    "plt.xlabel('서비스업')\n",
    "plt.ylabel('제조업')\n",
    "\n",
    "my_marker = ['*','o','v','x']\n",
    "my_colors = ['r','b','g','k']\n",
    "\n",
    "for i in range(4):\n",
    "    t = power2['클러스터종류']\n",
    "    xs = power2['서비스업'][t==i]\n",
    "    ys = power2['제조업'][t==i]\n",
    "    plt.scatter(xs,ys,marker=my_marker[i], c = my_colors[i])\n",
    "    \n",
    "for n in range(power2.shape[0]):\n",
    "    plt.text(power2['서비스업'][n]*1.02, power2['제조업'][n]*0.98, power2.index[n])\n",
    "plt.title('power2(전력사용량)')"
   ]
  },
  {
   "cell_type": "code",
   "execution_count": null,
   "metadata": {},
   "outputs": [],
   "source": []
  }
 ],
 "metadata": {
  "kernelspec": {
   "display_name": "Python 3",
   "language": "python",
   "name": "python3"
  },
  "language_info": {
   "codemirror_mode": {
    "name": "ipython",
    "version": 3
   },
   "file_extension": ".py",
   "mimetype": "text/x-python",
   "name": "python",
   "nbconvert_exporter": "python",
   "pygments_lexer": "ipython3",
   "version": "3.7.1"
  }
 },
 "nbformat": 4,
 "nbformat_minor": 2
}
