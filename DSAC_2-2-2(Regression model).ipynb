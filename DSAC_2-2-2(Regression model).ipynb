{
 "cells": [
  {
   "cell_type": "markdown",
   "metadata": {},
   "source": [
    "# linear regression"
   ]
  },
  {
   "cell_type": "code",
   "execution_count": 60,
   "metadata": {},
   "outputs": [
    {
     "name": "stdout",
     "output_type": "stream",
     "text": [
      "epoch =  0 , error =  768.0045865216807 , w =  1.7560966346840408 , b =  1.8811786799001846\n",
      "epoch =  10 , error =  175.0024856759006 , w =  15.149137870990518 , b =  8.10791286654843\n",
      "epoch =  20 , error =  125.34963934012117 , w =  19.18919476963809 , b =  9.537112119218648\n",
      "epoch =  30 , error =  121.00192345970359 , w =  20.4336978588788 , b =  9.809644879468806\n",
      "epoch =  40 , error =  120.5923987635383 , w =  20.826692884965148 , b =  9.834371857319445\n",
      "epoch =  50 , error =  120.54964632281741 , w =  20.954318964681814 , b =  9.82052201222423\n",
      "epoch =  60 , error =  120.54462028614084 , w =  20.99702305607815 , b =  9.808298072804051\n",
      "epoch =  70 , error =  120.54396099523645 , w =  21.011748083748373 , b =  9.801527848226097\n",
      "epoch =  80 , error =  120.54386712681513 , w =  21.016972321818677 , b =  9.798291081474044\n",
      "epoch =  90 , error =  120.54385304751189 , w =  21.018873776239033 , b =  9.796847945673086\n",
      "epoch =  100 , error =  120.54385087207562 , w =  21.019581074475994 , b =  9.796229094940378\n",
      "epoch =  110 , error =  120.54385053055415 , w =  21.01984888729149 , b =  9.795969927949105\n",
      "epoch =  120 , error =  120.54385047649626 , w =  21.01995172000272 , b =  9.795863023594535\n",
      "epoch =  130 , error =  120.54385046790391 , w =  21.019991629625416 , b =  9.795819365260385\n",
      "epoch =  140 , error =  120.54385046653529 , w =  21.020007243246948 , b =  9.795801655625477\n",
      "epoch =  150 , error =  120.54385046631707 , w =  21.02001338784451 , b =  9.795794504922593\n",
      "epoch =  160 , error =  120.54385046628224 , w =  21.020015816408414 , b =  9.795791626830894\n",
      "epoch =  170 , error =  120.54385046627671 , w =  21.020016779244358 , b =  9.795790470987168\n",
      "epoch =  180 , error =  120.54385046627581 , w =  21.0200171618229 , b =  9.795790007516414\n",
      "epoch =  190 , error =  120.54385046627567 , w =  21.02001731408018 , b =  9.795789821874797\n",
      "epoch =  200 , error =  120.54385046627563 , w =  21.020017374743446 , b =  9.79578974757318\n",
      "epoch =  210 , error =  120.54385046627561 , w =  21.020017398932648 , b =  9.795789717850422\n",
      "epoch =  220 , error =  120.54385046627566 , w =  21.020017408583456 , b =  9.795789705964948\n",
      "epoch =  230 , error =  120.54385046627563 , w =  21.0200174124354 , b =  9.79578970121347\n",
      "epoch =  240 , error =  120.54385046627566 , w =  21.020017413973275 , b =  9.795789699314318\n",
      "epoch =  250 , error =  120.54385046627563 , w =  21.020017414587386 , b =  9.79578969855533\n",
      "epoch =  260 , error =  120.54385046627561 , w =  21.020017414832655 , b =  9.795789698252033\n",
      "epoch =  270 , error =  120.54385046627563 , w =  21.020017414930617 , b =  9.795789698130841\n",
      "epoch =  280 , error =  120.54385046627563 , w =  21.02001741496975 , b =  9.795789698082418\n",
      "epoch =  290 , error =  120.54385046627561 , w =  21.02001741498538 , b =  9.795789698063071\n",
      "--------\n",
      "epoch =  299 , error =  120.54385046627563 , w =  21.020017414991226 , b =  9.795789698055836\n"
     ]
    },
    {
     "data": {
      "text/plain": [
       "[<matplotlib.lines.Line2D at 0x25335ebe7f0>]"
      ]
     },
     "execution_count": 60,
     "metadata": {},
     "output_type": "execute_result"
    },
    {
     "data": {
      "image/png": "[encoded data removed]",
      "text/plain": [
       "<Figure size 360x360 with 1 Axes>"
      ]
     },
     "metadata": {
      "needs_background": "light"
     },
     "output_type": "display_data"
    }
   ],
   "source": [
    "# 선형모델\n",
    "# y = wx + b\n",
    "import numpy as np\n",
    "import pandas as pd\n",
    "import matplotlib.pyplot as plt\n",
    "%matplotlib inline\n",
    "\n",
    "\n",
    "n = 100\n",
    "x = np.random.randn(100)\n",
    "y = x*20 + 10   # w = 20, b =10\n",
    "y = y + np.random.randn(n) * 10  # add noise\n",
    "\n",
    "plt.figure(figsize=(5,5))\n",
    "plt.scatter(x,y)\n",
    "\n",
    "w = np.random.randn()   # w에 랜덤으로 점 하나 찍기 random initial choise\n",
    "b = np.random.randn()   # b도 마찬가지\n",
    "\n",
    "lr = 0.1   # leaning( or training ) rate\n",
    "n_epoch = 300  # 횟수\n",
    "\n",
    "for epoch in range(n_epoch):\n",
    "    y_pred = w * x + b\n",
    "    error = (((y_pred - y)**2).mean())\n",
    "    if error < 0.1:\n",
    "        break\n",
    "    w = w - lr * ((y_pred-y)*x).mean()\n",
    "    b = b - lr * ((y_pred-y)).mean()\n",
    "    if epoch%10 ==0:\n",
    "        print('epoch = ', epoch,', error = ', error, ', w = ', w, ', b = ', b)\n",
    "    \n",
    "print('--------')\n",
    "print('epoch = ', epoch,', error = ', error, ', w = ', w, ', b = ', b)\n",
    "\n",
    "xx = np.linspace(-3,3,100)\n",
    "yy = w * xx + b\n",
    "plt.plot(xx,yy,c= 'k')"
   ]
  },
  {
   "cell_type": "code",
   "execution_count": 94,
   "metadata": {},
   "outputs": [
    {
     "name": "stdout",
     "output_type": "stream",
     "text": [
      "epoch =  0 , error =  4139.257977179529 , w1 =  23.523231111172354 , w2 =  50.72344293623735 , b =  54.21928036729479\n",
      "epoch =  1 , error =  205.75815232927778 , w1 =  33.150154683593684 , w2 =  33.547603744537525 , b =  49.85123453486792\n",
      "epoch =  2 , error =  61.6747495300266 , w1 =  28.67330454694358 , w2 =  43.8278376886995 , b =  49.802830961902465\n",
      "epoch =  3 , error =  22.94209173747337 , w1 =  30.700811709312624 , w2 =  37.38354583934174 , b =  50.827782891614014\n",
      "epoch =  4 , error =  9.770290628502892 , w1 =  29.730016522961183 , w2 =  41.49753580086479 , b =  49.76741942743011\n",
      "epoch =  5 , error =  4.6290613580278785 , w1 =  30.22616335374679 , w2 =  38.8415039840727 , b =  50.61579280644669\n",
      "epoch =  6 , error =  2.493189817043382 , w1 =  29.955723017856016 , w2 =  40.56822994069239 , b =  49.99890183111946\n",
      "epoch =  7 , error =  1.5839098112800607 , w1 =  30.111639903503967 , w2 =  39.44088549505139 , b =  50.42755106056144\n",
      "epoch =  8 , error =  1.1933060620074385 , w1 =  30.01772996470069 , w2 =  40.1787974950886 , b =  50.13675916399499\n",
      "epoch =  9 , error =  1.0249660243036107 , w1 =  30.076088419909986 , w2 =  39.69504517338501 , b =  50.33141380526507\n",
      "-------------\n",
      "epoch =  10 , error =  0.9523314370574484 , w1 =  30.076088419909986 , w2 =  39.69504517338501 , b =  50.33141380526507\n"
     ]
    }
   ],
   "source": [
    "# y = w1 * x1 + w2 * x2 + b\n",
    "import numpy as np\n",
    "import pandas as pd\n",
    "import matplotlib.pyplot as plt\n",
    "%matplotlib inline\n",
    "\n",
    "\n",
    "n = 100\n",
    "x1 = np.random.randn(100)\n",
    "x2 = np.random.randn(100)\n",
    "y = x1 * 30 + x2 * 40 + 50   # w1 = 30, w2 = 40, b = 50\n",
    "y = y + np.random.randn(n) * 1  # add noise\n",
    "\n",
    "w1 = np.random.randn()   # w에 랜덤으로 점 하나 찍기 random initial choise\n",
    "w2 = np.random.randn()\n",
    "b = np.random.randn()   # b도 마찬가지\n",
    "\n",
    "lr = 1.3   # leaning( or training ) rate\n",
    "n_epoch = 30  # 횟수\n",
    "\n",
    "for epoch in range(n_epoch):\n",
    "    y_pred = w1 * x1 + w2 * x2 + b\n",
    "    error = (((y_pred - y)**2).mean())\n",
    "    if error < 1:\n",
    "        break\n",
    "    w1 = w1 - lr * ((y_pred-y)*x1).mean()\n",
    "    w2 = w2 - lr * ((y_pred-y)*x2).mean()\n",
    "    b = b - lr * ((y_pred-y)).mean()\n",
    "    if epoch % 1 == 0:\n",
    "        print('epoch = ', epoch,', error = ', error, ', w1 = ', w1, ', w2 = ', w2, ', b = ', b)\n",
    "    \n",
    "print('-------------')\n",
    "print('epoch = ', epoch,', error = ', error, ', w1 = ', w1, ', w2 = ', w2, ', b = ', b)\n",
    "        "
   ]
  },
  {
   "cell_type": "markdown",
   "metadata": {},
   "source": [
    "### function으로 쉽게 돌려보자"
   ]
  },
  {
   "cell_type": "code",
   "execution_count": null,
   "metadata": {},
   "outputs": [],
   "source": [
    "#EX3) y = w1 * x1 + w2 * x2 + b (function call)\n",
    "import numpy as np\n",
    "import pandas as pd\n",
    "import matplotlib.pyplot as plt\n",
    "%matplotlib inline\n",
    "\n",
    "\n",
    "n = 100\n",
    "x1 = np.random.randn(100)\n",
    "x2 = np.random.randn(100)\n",
    "y = x1 * 30 + x2 * 40 + 50   # w1 = 30, w2 = 40, b = 50\n",
    "y = y + np.random.randn(n) * 15  # add noise"
   ]
  },
  {
   "cell_type": "code",
   "execution_count": 100,
   "metadata": {},
   "outputs": [
    {
     "data": {
      "text/plain": [
       "(array([30.05351659, 39.88667741]), 50.25361902840099)"
      ]
     },
     "execution_count": 100,
     "metadata": {},
     "output_type": "execute_result"
    }
   ],
   "source": [
    "X = pd.DataFrame(x1)\n",
    "X[1] = x2\n",
    "\n",
    "from sklearn.linear_model import LinearRegression\n",
    "\n",
    "model = LinearRegression()\n",
    "model.fit(X,y)\n",
    "\n",
    "model.coef_ , model.intercept_"
   ]
  },
  {
   "cell_type": "markdown",
   "metadata": {},
   "source": [
    "#### 이제 새로운 데이터를 만들어 사용해보자"
   ]
  },
  {
   "cell_type": "code",
   "execution_count": 101,
   "metadata": {},
   "outputs": [
    {
     "data": {
      "text/plain": [
       "array([199.96716785])"
      ]
     },
     "execution_count": 101,
     "metadata": {},
     "output_type": "execute_result"
    }
   ],
   "source": [
    "new_X = [1,3]  \n",
    "model.predict([new_X])  # 30 * 1 + 40 * 3 + 50"
   ]
  },
  {
   "cell_type": "code",
   "execution_count": 107,
   "metadata": {},
   "outputs": [
    {
     "data": {
      "text/plain": [
       "array([ 81.8150475 ,  98.82604454,  68.91403644,  82.08436518,\n",
       "        65.16348807,  76.69266125,  90.71948717,  96.49457719,\n",
       "        55.1573747 ,  68.59088999,  76.29475918,  93.07817928,\n",
       "       105.1960218 ,  79.1587061 ,  81.62834401,  93.20937251,\n",
       "        94.81055198,  91.76515627,  70.37589606,  66.49586233,\n",
       "        66.73819092,  89.37645769, 106.05057331,  95.21641756,\n",
       "        74.1684603 , 103.06732201,  98.69087358, 110.10929272,\n",
       "        90.69442473,  95.43864097,  72.74007463,  86.59696536,\n",
       "        84.9293664 , 102.32386948,  60.74840343,  68.42710771,\n",
       "        90.98469821,  74.3307371 , 101.64768972,  81.26668797,\n",
       "       117.23663576, 108.79772759,  83.82519372, 105.41646327,\n",
       "        85.89170139,  82.029189  ,  87.2318215 ,  57.02619956,\n",
       "        71.95026556,  59.61934559,  72.93636677,  84.0722701 ,\n",
       "        87.9399307 ,  85.48041936,  89.02651497,  93.88621439,\n",
       "        71.88493819,  55.17647283,  82.32660617,  83.54127177,\n",
       "        83.14894842,  68.46560992,  84.89348297, 102.87089117,\n",
       "        89.00023904,  94.73997457,  82.598113  ,  66.06280763,\n",
       "        89.43953925, 107.27366978,  67.11948892,  64.06041369,\n",
       "        89.43154859,  79.40520681,  79.87999853, 100.39758891,\n",
       "       100.80667294,  96.89743696,  92.79149458,  78.39286102,\n",
       "        79.22864027,  79.30352384,  86.33267458, 108.96608268,\n",
       "        77.4360433 ,  86.50070909,  91.66484402,  96.85371843,\n",
       "        56.84355429,  84.93694974,  85.79821496,  66.23006347,\n",
       "       110.93957564, 102.00300406,  94.14163462,  78.92618769,\n",
       "       107.52239001,  76.16482188,  88.67997809,  90.7822077 ])"
      ]
     },
     "execution_count": 107,
     "metadata": {},
     "output_type": "execute_result"
    }
   ],
   "source": [
    "# test data\n",
    "z = np.random.rand(100,2)\n",
    "model.predict(z)"
   ]
  },
  {
   "cell_type": "code",
   "execution_count": null,
   "metadata": {},
   "outputs": [],
   "source": []
  }
 ],
 "metadata": {
  "kernelspec": {
   "display_name": "Python 3",
   "language": "python",
   "name": "python3"
  },
  "language_info": {
   "codemirror_mode": {
    "name": "ipython",
    "version": 3
   },
   "file_extension": ".py",
   "mimetype": "text/x-python",
   "name": "python",
   "nbconvert_exporter": "python",
   "pygments_lexer": "ipython3",
   "version": "3.7.1"
  }
 },
 "nbformat": 4,
 "nbformat_minor": 2
}
